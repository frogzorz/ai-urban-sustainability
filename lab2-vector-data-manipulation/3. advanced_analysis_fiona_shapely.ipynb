{
 "cells": [
  {
   "cell_type": "code",
   "execution_count": 3,
   "metadata": {},
   "outputs": [
    {
     "name": "stdout",
     "output_type": "stream",
     "text": [
      "Requirement already satisfied: fiona in /Users/songj/miniforge3/lib/python3.10/site-packages (1.10.1)\n",
      "Requirement already satisfied: attrs>=19.2.0 in /Users/songj/miniforge3/lib/python3.10/site-packages (from fiona) (24.2.0)\n",
      "Requirement already satisfied: certifi in /Users/songj/miniforge3/lib/python3.10/site-packages (from fiona) (2024.8.30)\n",
      "Requirement already satisfied: click~=8.0 in /Users/songj/miniforge3/lib/python3.10/site-packages (from fiona) (8.1.7)\n",
      "Requirement already satisfied: click-plugins>=1.0 in /Users/songj/miniforge3/lib/python3.10/site-packages (from fiona) (1.1.1)\n",
      "Requirement already satisfied: cligj>=0.5 in /Users/songj/miniforge3/lib/python3.10/site-packages (from fiona) (0.7.2)\n",
      "Collecting rtree\n",
      "  Downloading Rtree-1.3.0-py3-none-macosx_11_0_arm64.whl.metadata (2.1 kB)\n",
      "Downloading Rtree-1.3.0-py3-none-macosx_11_0_arm64.whl (432 kB)\n",
      "\u001b[2K   \u001b[90m━━━━━━━━━━━━━━━━━━━━━━━━━━━━━━━━━━━━━━━━\u001b[0m \u001b[32m432.9/432.9 kB\u001b[0m \u001b[31m6.0 MB/s\u001b[0m eta \u001b[36m0:00:00\u001b[0ma \u001b[36m0:00:01\u001b[0m\n",
      "\u001b[?25hInstalling collected packages: rtree\n",
      "Successfully installed rtree-1.3.0\n"
     ]
    }
   ],
   "source": [
    "# !pip install pyproj\n",
    "!pip install fiona\n",
    "!pip install rtree"
   ]
  },
  {
   "cell_type": "markdown",
   "metadata": {},
   "source": [
    "## Using Fiona to manipuate shapefiles and do spatial analysis\n",
    "Fiona is an excellant tool for spatial manipulation. This session show you how to use fiona to read shapefile and metadata, use Shapely and Fiona to do spatial analysis, and and write shapefiles. These libraries are essentially wrappers for GEOS and OGR, respectively, which provide clean, Pythonic interfaces for performing the processing, while still keeping the performance capabilities of the underlying libraries.\n",
    "\n",
    "Fiona is used for reading and writing vector files (here we’re using Shapefiles), while Shapely is used for doing the manipulation and analysis of the geometric objects.\n",
    "\n",
    "This session will include some major sections, \n",
    "\n",
    "1. Read metadata, attributes, geometry of features in shapfile using fiona\n",
    "1. Create shapefile based on the longitude and latitude \n",
    "1. Convert the projection of shapefiles using pyproj\n",
    "1. Do buffer analysis using fiona+shapely\n",
    "1. Do intersection of point feature class and polygon feature class\n",
    "\n",
    "**References**:\n",
    "- Pandas Tutorial, https://www.datacamp.com/community/tutorials/pandas-tutorial-dataframe-python\n",
    "- Fiona Manual, http://toblerity.org/fiona/manual.html\n",
    "- Shapely Manual, http://toblerity.org/shapely/manual.html\n",
    "- AZAVEA Research Blog, Using Shapely and Fiona to Locate High-Risk Traffic Areas, https://www.azavea.com/blog/2016/10/05/philippines-road-safety-using-shapely-fiona-locate-high-risk-traffic-areas/\n"
   ]
  },
  {
   "cell_type": "markdown",
   "metadata": {},
   "source": [
    "Let's print the geometry and attribute of the features in shapefile"
   ]
  },
  {
   "cell_type": "code",
   "execution_count": 1,
   "metadata": {},
   "outputs": [],
   "source": []
  },
  {
   "cell_type": "markdown",
   "metadata": {},
   "source": [
    "### Convert the car crash shapefile projection to the same project with the census tract"
   ]
  },
  {
   "cell_type": "code",
   "execution_count": 1,
   "metadata": {},
   "outputs": [],
   "source": [
    "import pyproj\n",
    "from itertools import repeat\n",
    "import sys\n",
    "import time\n",
    "import fiona\n",
    "from pyproj import Transformer\n",
    "from shapely.geometry import mapping, shape\n",
    "\n",
    "traffic_accident = 'data/crash_data_collision_crash_2007_2017.shp'\n",
    "# the name of the ouput reprojected shapefile\n",
    "trafficAccident_reproj = 'data/crash_data_collision_crash_2007_2017_reproj.shp'\n",
    "transformer = Transformer.from_crs(4326, 2272)\n",
    "\n",
    "# write the reprojected point feature to shapefile\n",
    "with fiona.open(traffic_accident) as source:\n",
    "    crs={'init': 'epsg:2272'}\n",
    "    schema = source.schema\n",
    "    \n",
    "    with fiona.open(trafficAccident_reproj, 'w', driver=source.driver, \\\n",
    "                    crs=crs,schema=schema) as dest:\n",
    "        for feat in source:\n",
    "            feat_geom = feat['geometry']\n",
    "            data = feat['properties']\n",
    "            \n",
    "            coordinates = feat_geom['coordinates']\n",
    "            #print(coordinates)\n",
    "            # Transform the coordinates of every ring.\n",
    "            reprojCoords = transformer.transform(coordinates[1], coordinates[0])\n",
    "            \n",
    "            reproj_geom = {\n",
    "                'type': feat_geom['type'],  # Preserve original geometry type\n",
    "                'coordinates': reprojCoords    # Use new reprojected coordinates\n",
    "            }\n",
    "            \n",
    "            dest.write({'geometry': mapping(shape(reproj_geom)),'properties': data})\n",
    "            "
   ]
  },
  {
   "cell_type": "code",
   "execution_count": 2,
   "metadata": {},
   "outputs": [],
   "source": []
  },
  {
   "cell_type": "markdown",
   "metadata": {},
   "source": [
    "You may find it slower than GeoPandas, this is because we use `for loop` here and do the transform one by one. There are several tricks to increase the efficiency, like use numpy array. In this class, we are not going to increase the efficiency here. If you interested, you can also check the implementation in GeoPandas. https://github.com/geopandas/geopandas"
   ]
  },
  {
   "cell_type": "code",
   "execution_count": null,
   "metadata": {},
   "outputs": [],
   "source": []
  },
  {
   "cell_type": "markdown",
   "metadata": {},
   "source": [
    "## R-tree for overlay of two shapefile\n",
    "\n",
    "The core idea behind the `R-tree` is to form a tree-like data structure where nearby objects are grouped together, and their geographical extent (minimum bounding box) is inserted into the data structure (i.e. R-tree). This bounding box then represents the whole group of geometries as one level (typically called as “page” or “node”) in the data structure.\n"
   ]
  },
  {
   "cell_type": "code",
   "execution_count": null,
   "metadata": {},
   "outputs": [],
   "source": []
  },
  {
   "cell_type": "markdown",
   "metadata": {},
   "source": [
    "#### Build and fill Rtree\n",
    "First step is to build the Rtree on the point feature. If you have question about which shapefile should be used as base for the Rtree, a tip is to use the shapefile has more features."
   ]
  },
  {
   "cell_type": "code",
   "execution_count": 4,
   "metadata": {},
   "outputs": [
    {
     "name": "stdout",
     "output_type": "stream",
     "text": [
      "10000\n",
      "20000\n",
      "30000\n",
      "40000\n",
      "50000\n",
      "60000\n",
      "70000\n"
     ]
    }
   ],
   "source": [
    "import rtree\n",
    "import fiona\n",
    "import os, os.path\n",
    "from statistics import median\n",
    "from shapely.geometry import shape\n",
    "from shapely.ops import transform\n",
    "from functools import partial\n",
    "import pyproj\n",
    "import time\n",
    "\n",
    "\n",
    "neighborhood_shp = 'data/philadelphia-census-tract.shp'\n",
    "trafficAccident_reproj = 'data/crash_data_collision_crash_2007_2017_reproj.shp'\n",
    "outPolygonShp = 'data/census-traffic-accident.shp'\n",
    "\n",
    "\n",
    "t0 = time.time()\n",
    "pnt_lyr = fiona.open(trafficAccident_reproj, 'r')     \n",
    "# create an empty spatial index object\n",
    "index = rtree.index.Index()\n",
    "\n",
    "\n",
    "# populate the spatial index, the polygon features\n",
    "i = 0\n",
    "for fid, feature in pnt_lyr.items():\n",
    "    i = i + 1\n",
    "    if i % 10000 == 0: print (i)\n",
    "    geometry = shape(feature['geometry'])\n",
    "    \n",
    "    # add a buffer in order to create a r-tree\n",
    "    geometry_buffered = geometry.buffer(10) \n",
    "    geotype = feature['geometry']['type']\n",
    "    \n",
    "    index.insert(fid, geometry_buffered.bounds)\n",
    "    "
   ]
  },
  {
   "cell_type": "code",
   "execution_count": null,
   "metadata": {},
   "outputs": [],
   "source": []
  },
  {
   "cell_type": "markdown",
   "metadata": {},
   "source": [
    "#### Start the overlay based on the built rtree\n",
    "Based on the built Rtree to loop all features in the polygon and calculate the attribute"
   ]
  },
  {
   "cell_type": "code",
   "execution_count": null,
   "metadata": {},
   "outputs": [],
   "source": []
  },
  {
   "cell_type": "code",
   "execution_count": 5,
   "metadata": {},
   "outputs": [
    {
     "name": "stdout",
     "output_type": "stream",
     "text": [
      "Polygon: 0\n"
     ]
    },
    {
     "name": "stderr",
     "output_type": "stream",
     "text": [
      "/var/folders/xd/w__5x95d37b_lkks4djd2m9h0000gp/T/ipykernel_57773/4055861312.py:33: FionaDeprecationWarning: instances of this class -- CRS, geometry, and feature objects -- will become immutable in fiona version 2.0\n",
      "  attriPoly['AcciNum']=count\n"
     ]
    },
    {
     "name": "stdout",
     "output_type": "stream",
     "text": [
      "Polygon: 10\n",
      "Polygon: 20\n",
      "Polygon: 30\n",
      "Polygon: 40\n",
      "Polygon: 50\n",
      "Polygon: 60\n",
      "Polygon: 70\n",
      "Polygon: 80\n",
      "Polygon: 90\n",
      "Polygon: 100\n",
      "Polygon: 110\n",
      "Polygon: 120\n",
      "Polygon: 130\n",
      "Polygon: 140\n",
      "Polygon: 150\n",
      "Polygon: 160\n",
      "Polygon: 170\n",
      "Polygon: 180\n",
      "Polygon: 190\n",
      "Polygon: 200\n",
      "Polygon: 210\n",
      "Polygon: 220\n",
      "Polygon: 230\n",
      "Polygon: 240\n",
      "Polygon: 250\n",
      "Polygon: 260\n",
      "Polygon: 270\n",
      "Polygon: 280\n",
      "Polygon: 290\n",
      "Polygon: 300\n",
      "Polygon: 310\n",
      "Polygon: 320\n",
      "Polygon: 330\n",
      "Polygon: 340\n",
      "Polygon: 350\n",
      "Polygon: 360\n",
      "Polygon: 370\n",
      "Polygon: 380\n"
     ]
    }
   ],
   "source": [
    "# loop all polygons and assign GVI values\n",
    "with fiona.open(neighborhood_shp, 'r') as polygon_lyr:\n",
    "    schema = polygon_lyr.schema.copy()\n",
    "    schema['properties']['AcciNum']='int' \n",
    "    input_crs = polygon_lyr.crs\n",
    "    \n",
    "    # write the intersected point into the new shapefile\n",
    "    with fiona.open(outPolygonShp, 'w', 'ESRI Shapefile', schema, input_crs) as output:\n",
    "        \n",
    "        # loop the polygon feature\n",
    "        for idx, featPoly in enumerate(polygon_lyr):\n",
    "            if idx % 10 == 0:\n",
    "                print('Polygon:', idx)\n",
    "            \n",
    "            geomPoly = shape(featPoly['geometry'])                \n",
    "            attriPoly = featPoly['properties']\n",
    "            \n",
    "            # using the bounding box to find the close but may not intersected point feature\n",
    "            fids = [int(i) for i in index.intersection(geomPoly.bounds)]\n",
    "            \n",
    "            # count the number of accidents\n",
    "            count = 0\n",
    "            \n",
    "            # loop all features in bounding box and then judge if they are intersected\n",
    "            for fid in fids:\n",
    "                featPnt = pnt_lyr[fid]\n",
    "                geomPnt = shape(featPnt['geometry'])\n",
    "                \n",
    "                # if the point is intersected with the polygon, then save the point feature into the output shapefile\n",
    "                if geomPoly.intersects(geomPnt):\n",
    "                    count = count + 1\n",
    "            \n",
    "            attriPoly['AcciNum']=count\n",
    "            output.write({'geometry': mapping(geomPoly),'properties': attriPoly})\n",
    "            "
   ]
  },
  {
   "cell_type": "code",
   "execution_count": null,
   "metadata": {},
   "outputs": [],
   "source": []
  },
  {
   "cell_type": "code",
   "execution_count": 6,
   "metadata": {},
   "outputs": [
    {
     "data": {
      "text/plain": [
       "2011"
      ]
     },
     "execution_count": 6,
     "metadata": {},
     "output_type": "execute_result"
    }
   ],
   "source": [
    "featPnt['properties']['crash_year']"
   ]
  },
  {
   "cell_type": "code",
   "execution_count": null,
   "metadata": {},
   "outputs": [],
   "source": []
  }
 ],
 "metadata": {
  "kernelspec": {
   "display_name": "base",
   "language": "python",
   "name": "python3"
  },
  "language_info": {
   "codemirror_mode": {
    "name": "ipython",
    "version": 3
   },
   "file_extension": ".py",
   "mimetype": "text/x-python",
   "name": "python",
   "nbconvert_exporter": "python",
   "pygments_lexer": "ipython3",
   "version": "3.10.14"
  }
 },
 "nbformat": 4,
 "nbformat_minor": 4
}

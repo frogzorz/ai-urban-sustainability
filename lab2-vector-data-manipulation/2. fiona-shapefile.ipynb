{
 "cells": [
  {
   "cell_type": "markdown",
   "metadata": {},
   "source": [
    "# Homework 1 part 2: Fiona and shapefile basics\n",
    "### Cleaned notebook by Jamie Song for MUSA 6950\n",
    "\n",
    "## Using Fiona to manipuate shapefiles and do spatial analysis\n",
    "\n",
    "Fiona is an excellant tool for spatial manipulation. This session show you how to use fiona to read and write shapefiles. Shapely and Fiona. These libraries are essentially wrappers for GEOS and OGR, respectively, which provide clean, Pythonic interfaces for performing the processing, while still keeping the performance capabilities of the underlying libraries.\n",
    "\n",
    "This session will just include how to use fiona to open shapefile. We will do more advanced analysis next week using `Fiona`\n",
    "\n",
    "\n",
    "\n",
    "References:\n",
    "\n",
    "Pandas Tutorial, https://www.datacamp.com/community/tutorials/pandas-tutorial-dataframe-python\n",
    "\n",
    "Fiona Manual, http://toblerity.org/fiona/manual.html\n"
   ]
  },
  {
   "cell_type": "code",
   "execution_count": null,
   "metadata": {},
   "outputs": [],
   "source": [
    "# uncomment to install fiona and rtree\n",
    "!pip install fiona\n",
    "!pip install rtree"
   ]
  },
  {
   "cell_type": "markdown",
   "metadata": {},
   "source": [
    "#### 1. Read the metadata of shapefiles using `fiona`\n",
    "You may find the `geopandas` is not flexible in many cases. Sometime you get error message using `geopandas`, it is very difficult to debug, because you don't know how `geopandas` conduct the spatial operations. Here we introduce a lower level module `fiona` and `shapely`, which will give you more flexibility, but also a little big difficulty. Actually `geopandas` is developed on top of `fiona` and `shapely`. "
   ]
  },
  {
   "cell_type": "markdown",
   "metadata": {},
   "source": [
    "Read shapefile and loop all features"
   ]
  },
  {
   "cell_type": "code",
   "execution_count": 2,
   "metadata": {},
   "outputs": [],
   "source": [
    "# get the meta data of shapefile, such as spatial reference, field names, etc\n",
    "import fiona\n",
    "from fiona.crs import to_string\n",
    "from shapely.geometry import mapping, shape\n",
    "\n",
    "neighborhood_shp = 'data/census-tract-data.shp'\n",
    "\n",
    "with fiona.open(neighborhood_shp, 'r') as nb_lyr:\n",
    "    driver = nb_lyr.driver # the driver of the shapefile\n",
    "    schema = nb_lyr.schema  #schema of shapefile\n",
    "    crs = nb_lyr.crs   # coordinate reference system of the shapefile\n",
    "    meta = nb_lyr.meta # more details about the metadata of the shapefile\n"
   ]
  },
  {
   "cell_type": "markdown",
   "metadata": {},
   "source": [
    "Let's take a look at what those metadata look like"
   ]
  },
  {
   "cell_type": "code",
   "execution_count": 3,
   "metadata": {},
   "outputs": [
    {
     "name": "stdout",
     "output_type": "stream",
     "text": [
      "The driver is: ESRI Shapefile\n",
      "The schema is: {'properties': {'STATEFP': 'str:80', 'COUNTYFP': 'str:80', 'TRACTCE': 'str:80', 'GEOID': 'str:80', 'NAME_x': 'str:80', 'NAMELSAD': 'str:80', 'MTFCC': 'str:80', 'FUNCSTAT': 'str:80', 'ALAND': 'int:18', 'AWATER': 'int:18', 'INTPTLAT': 'str:80', 'INTPTLON': 'str:80', 'NAME_y': 'str:80', 'GEO_ID': 'str:80', 'white_popu': 'str:80', 'non-hispan': 'str:80', 'black_popu': 'str:80', 'asian_popu': 'str:80', 'hispanic_p': 'str:80', 'total_popu': 'str:80', 'median_hou': 'str:80', 'per_capita': 'str:80', 'built_age': 'str:80', 'less_highs': 'str:80', 'bachelor': 'str:80', 'totaleduca': 'str:80', 'male_und18': 'str:80', 'female_und': 'str:80', 'male65_66': 'str:80', 'male67_69': 'str:80', 'male70_74': 'str:80', 'male75_79': 'str:80', 'male80_84': 'str:80', 'male85_': 'str:80', 'fema_65_66': 'str:80', 'fema_67_69': 'str:80', 'fema70_74': 'str:80', 'fema75_79': 'str:80', 'fema80_84': 'str:80', 'fema85_': 'str:80', 'state': 'str:80', 'county': 'str:80', 'tract': 'str:80'}, 'geometry': 'Polygon'}\n",
      "The coordinate reference system is: EPSG:4269\n",
      "the metadata is: {'driver': 'ESRI Shapefile', 'schema': {'properties': {'STATEFP': 'str:80', 'COUNTYFP': 'str:80', 'TRACTCE': 'str:80', 'GEOID': 'str:80', 'NAME_x': 'str:80', 'NAMELSAD': 'str:80', 'MTFCC': 'str:80', 'FUNCSTAT': 'str:80', 'ALAND': 'int:18', 'AWATER': 'int:18', 'INTPTLAT': 'str:80', 'INTPTLON': 'str:80', 'NAME_y': 'str:80', 'GEO_ID': 'str:80', 'white_popu': 'str:80', 'non-hispan': 'str:80', 'black_popu': 'str:80', 'asian_popu': 'str:80', 'hispanic_p': 'str:80', 'total_popu': 'str:80', 'median_hou': 'str:80', 'per_capita': 'str:80', 'built_age': 'str:80', 'less_highs': 'str:80', 'bachelor': 'str:80', 'totaleduca': 'str:80', 'male_und18': 'str:80', 'female_und': 'str:80', 'male65_66': 'str:80', 'male67_69': 'str:80', 'male70_74': 'str:80', 'male75_79': 'str:80', 'male80_84': 'str:80', 'male85_': 'str:80', 'fema_65_66': 'str:80', 'fema_67_69': 'str:80', 'fema70_74': 'str:80', 'fema75_79': 'str:80', 'fema80_84': 'str:80', 'fema85_': 'str:80', 'state': 'str:80', 'county': 'str:80', 'tract': 'str:80'}, 'geometry': 'Polygon'}, 'crs': CRS.from_epsg(4269), 'crs_wkt': 'GEOGCS[\"NAD83\",DATUM[\"North_American_Datum_1983\",SPHEROID[\"GRS 1980\",6378137,298.257222101,AUTHORITY[\"EPSG\",\"7019\"]],AUTHORITY[\"EPSG\",\"6269\"]],PRIMEM[\"Greenwich\",0,AUTHORITY[\"EPSG\",\"8901\"]],UNIT[\"degree\",0.0174532925199433,AUTHORITY[\"EPSG\",\"9122\"]],AXIS[\"Latitude\",NORTH],AXIS[\"Longitude\",EAST],AUTHORITY[\"EPSG\",\"4269\"]]'}\n"
     ]
    }
   ],
   "source": [
    "print ('The driver is:', driver)\n",
    "print ('The schema is:', schema)\n",
    "print ('The coordinate reference system is:', crs)\n",
    "print ('the metadata is:', meta)"
   ]
  },
  {
   "cell_type": "markdown",
   "metadata": {},
   "source": [
    "Let's print the geometry and attribute of the features in shapefile"
   ]
  },
  {
   "cell_type": "code",
   "execution_count": 4,
   "metadata": {},
   "outputs": [],
   "source": [
    "with fiona.open(neighborhood_shp, 'r') as nb_lyr:\n",
    "    for feat in nb_lyr:\n",
    "        # attribute of the neighborhood features\n",
    "        attr = feat['properties']\n",
    "        name = attr['TRACTCE']  #you can find other attribute based on the metadata of the shapefile\n",
    "        # print ('The neighborhod is:', name)\n",
    "        \n",
    "        # get the geometry of the polygon feature\n",
    "        geom = feat['geometry']\n",
    "#         print ('geom is:', geom)\n",
    "        "
   ]
  },
  {
   "cell_type": "markdown",
   "metadata": {},
   "source": [
    "Here you may find we are using dictionary to manage the metadata and the geometry of each feature in the shapefile"
   ]
  },
  {
   "cell_type": "code",
   "execution_count": 5,
   "metadata": {},
   "outputs": [
    {
     "data": {
      "text/plain": [
       "<fiona.model.Feature at 0x125519f60>"
      ]
     },
     "execution_count": 5,
     "metadata": {},
     "output_type": "execute_result"
    }
   ],
   "source": [
    "feat"
   ]
  },
  {
   "cell_type": "code",
   "execution_count": 6,
   "metadata": {},
   "outputs": [
    {
     "data": {
      "text/plain": [
       "ItemsView(<fiona.model.Properties object at 0x10567bd90>)"
      ]
     },
     "execution_count": 6,
     "metadata": {},
     "output_type": "execute_result"
    }
   ],
   "source": [
    "feat['properties'].items()"
   ]
  },
  {
   "cell_type": "markdown",
   "metadata": {},
   "source": [
    "List all the items"
   ]
  },
  {
   "cell_type": "code",
   "execution_count": 7,
   "metadata": {},
   "outputs": [
    {
     "data": {
      "text/plain": [
       "{'STATEFP': '42',\n",
       " 'COUNTYFP': '101',\n",
       " 'TRACTCE': '031502',\n",
       " 'GEOID': '42101031502',\n",
       " 'NAME_x': '315.02',\n",
       " 'NAMELSAD': 'Census Tract 315.02',\n",
       " 'MTFCC': 'G5020',\n",
       " 'FUNCSTAT': 'S',\n",
       " 'ALAND': 578102,\n",
       " 'AWATER': 0,\n",
       " 'INTPTLAT': '+40.0392658',\n",
       " 'INTPTLON': '-075.0548693',\n",
       " 'NAME_y': 'Census Tract 315.02, Philadelphia County, Pennsylvania',\n",
       " 'GEO_ID': '1400000US42101031502',\n",
       " 'white_popu': '2441',\n",
       " 'non-hispan': '2258',\n",
       " 'black_popu': '843',\n",
       " 'asian_popu': '676',\n",
       " 'hispanic_p': '510',\n",
       " 'total_popu': '4461',\n",
       " 'median_hou': '43190',\n",
       " 'per_capita': '18873',\n",
       " 'built_age': '1627',\n",
       " 'less_highs': '600',\n",
       " 'bachelor': '348',\n",
       " 'totaleduca': '3120',\n",
       " 'male_und18': '530',\n",
       " 'female_und': '535',\n",
       " 'male65_66': '19',\n",
       " 'male67_69': '101',\n",
       " 'male70_74': '40',\n",
       " 'male75_79': '11',\n",
       " 'male80_84': '15',\n",
       " 'male85_': '40',\n",
       " 'fema_65_66': '74',\n",
       " 'fema_67_69': '21',\n",
       " 'fema70_74': '51',\n",
       " 'fema75_79': '48',\n",
       " 'fema80_84': '31',\n",
       " 'fema85_': '22',\n",
       " 'state': '42',\n",
       " 'county': '101',\n",
       " 'tract': '031502'}"
      ]
     },
     "execution_count": 7,
     "metadata": {},
     "output_type": "execute_result"
    }
   ],
   "source": [
    "dict(feat['properties'].items())"
   ]
  },
  {
   "cell_type": "markdown",
   "metadata": {},
   "source": [
    "For the geometry, we can do the same"
   ]
  },
  {
   "cell_type": "code",
   "execution_count": 8,
   "metadata": {},
   "outputs": [
    {
     "data": {
      "text/plain": [
       "[[(-75.061043, 40.037980999999995),\n",
       "  (-75.060386, 40.0386),\n",
       "  (-75.059801, 40.039152),\n",
       "  (-75.05910999999999, 40.039803),\n",
       "  (-75.05879399999999, 40.0401),\n",
       "  (-75.058555, 40.040310999999996),\n",
       "  (-75.058504, 40.040358999999995),\n",
       "  (-75.057182, 40.04161),\n",
       "  (-75.056709, 40.042058999999995),\n",
       "  (-75.05654899999999, 40.042218999999996),\n",
       "  (-75.056122, 40.042645),\n",
       "  (-75.05594599999999, 40.042831),\n",
       "  (-75.05561, 40.043186999999996),\n",
       "  (-75.05492699999999, 40.043853999999996),\n",
       "  (-75.054287, 40.044447999999996),\n",
       "  (-75.054262, 40.044435),\n",
       "  (-75.05406099999999, 40.044325),\n",
       "  (-75.053114, 40.043763999999996),\n",
       "  (-75.052228, 40.043271),\n",
       "  (-75.05215299999999, 40.043209999999995),\n",
       "  (-75.051425, 40.042788),\n",
       "  (-75.050643, 40.042333),\n",
       "  (-75.049027, 40.041412),\n",
       "  (-75.04911, 40.041337),\n",
       "  (-75.049596, 40.040805999999996),\n",
       "  (-75.050091, 40.040285),\n",
       "  (-75.050617, 40.039736),\n",
       "  (-75.05122, 40.039091),\n",
       "  (-75.05151599999999, 40.038778),\n",
       "  (-75.0518, 40.038475999999996),\n",
       "  (-75.05239399999999, 40.037849),\n",
       "  (-75.053022, 40.037183),\n",
       "  (-75.053319, 40.036857999999995),\n",
       "  (-75.053584, 40.036574),\n",
       "  (-75.05197299999999, 40.035672),\n",
       "  (-75.052525, 40.035087),\n",
       "  (-75.053072, 40.034501999999996),\n",
       "  (-75.053122, 40.034458),\n",
       "  (-75.053393, 40.034165),\n",
       "  (-75.053645, 40.033896),\n",
       "  (-75.05370099999999, 40.033843999999995),\n",
       "  (-75.055334, 40.034738999999995),\n",
       "  (-75.05695, 40.035651),\n",
       "  (-75.058568, 40.036547999999996),\n",
       "  (-75.059867, 40.037267),\n",
       "  (-75.06017899999999, 40.037456999999996),\n",
       "  (-75.060542, 40.037653999999996),\n",
       "  (-75.06092699999999, 40.037873999999995),\n",
       "  (-75.061043, 40.037980999999995)]]"
      ]
     },
     "execution_count": 8,
     "metadata": {},
     "output_type": "execute_result"
    }
   ],
   "source": [
    "geom = feat['geometry']\n",
    "dict(geom)['coordinates']"
   ]
  },
  {
   "cell_type": "markdown",
   "metadata": {},
   "source": [
    "We can also visualize the shape using the submodule `shape` in the module of `shapely`"
   ]
  },
  {
   "cell_type": "code",
   "execution_count": 9,
   "metadata": {},
   "outputs": [
    {
     "data": {
      "image/svg+xml": [
       "<svg xmlns=\"http://www.w3.org/2000/svg\" xmlns:xlink=\"http://www.w3.org/1999/xlink\" width=\"100.0\" height=\"100.0\" viewBox=\"-75.06152364 40.033363359999996 0.012977280000015412 0.011565279999999234\" preserveAspectRatio=\"xMinYMin meet\"><g transform=\"matrix(1,0,0,-1,0,80.07829199999999)\"><path fill-rule=\"evenodd\" fill=\"#66cc99\" stroke=\"#555555\" stroke-width=\"0.00025954560000030825\" opacity=\"0.6\" d=\"M -75.061043,40.037980999999995 L -75.060386,40.0386 L -75.059801,40.039152 L -75.05910999999999,40.039803 L -75.05879399999999,40.0401 L -75.058555,40.040310999999996 L -75.058504,40.040358999999995 L -75.057182,40.04161 L -75.056709,40.042058999999995 L -75.05654899999999,40.042218999999996 L -75.056122,40.042645 L -75.05594599999999,40.042831 L -75.05561,40.043186999999996 L -75.05492699999999,40.043853999999996 L -75.054287,40.044447999999996 L -75.054262,40.044435 L -75.05406099999999,40.044325 L -75.053114,40.043763999999996 L -75.052228,40.043271 L -75.05215299999999,40.043209999999995 L -75.051425,40.042788 L -75.050643,40.042333 L -75.049027,40.041412 L -75.04911,40.041337 L -75.049596,40.040805999999996 L -75.050091,40.040285 L -75.050617,40.039736 L -75.05122,40.039091 L -75.05151599999999,40.038778 L -75.0518,40.038475999999996 L -75.05239399999999,40.037849 L -75.053022,40.037183 L -75.053319,40.036857999999995 L -75.053584,40.036574 L -75.05197299999999,40.035672 L -75.052525,40.035087 L -75.053072,40.034501999999996 L -75.053122,40.034458 L -75.053393,40.034165 L -75.053645,40.033896 L -75.05370099999999,40.033843999999995 L -75.055334,40.034738999999995 L -75.05695,40.035651 L -75.058568,40.036547999999996 L -75.059867,40.037267 L -75.06017899999999,40.037456999999996 L -75.060542,40.037653999999996 L -75.06092699999999,40.037873999999995 L -75.061043,40.037980999999995 z\" /></g></svg>"
      ],
      "text/plain": [
       "<POLYGON ((-75.061 40.038, -75.06 40.039, -75.06 40.039, -75.059 40.04, -75....>"
      ]
     },
     "execution_count": 9,
     "metadata": {},
     "output_type": "execute_result"
    }
   ],
   "source": [
    "shape(geom)"
   ]
  },
  {
   "cell_type": "markdown",
   "metadata": {},
   "source": [
    "Buffer analysis"
   ]
  },
  {
   "cell_type": "code",
   "execution_count": 10,
   "metadata": {},
   "outputs": [
    {
     "data": {
      "image/svg+xml": [
       "<svg xmlns=\"http://www.w3.org/2000/svg\" xmlns:xlink=\"http://www.w3.org/1999/xlink\" width=\"100.0\" height=\"100.0\" viewBox=\"-85.85213603738487 29.23565700502621 21.598287366904486 21.608849120591973\" preserveAspectRatio=\"xMinYMin meet\"><g transform=\"matrix(1,0,0,-1,0,80.0801631306444)\"><path fill-rule=\"evenodd\" fill=\"#66cc99\" stroke=\"#555555\" stroke-width=\"0.43217698241183944\" opacity=\"0.6\" d=\"M -81.99173596730908,47.24039662573261 L -81.99487498451377,47.24365812076884 L -81.98941598451377,47.248912120768836 L -81.92341263701334,47.31129446914199 L -81.91849022315036,47.31640236604548 L -81.91783322315035,47.31702136604549 L -81.91760717384388,47.316781439721815 L -81.85768071030876,47.373420287092316 L -81.85704071030877,47.374014287092315 L -81.13558904626053,47.98282097071304 L -80.3599445838222,48.52088578973396 L -79.53701938617624,48.983413843649174 L -78.67414685314178,49.36628336883228 L -77.77901637045616,49.666082469141585 L -76.85960478673044,49.880139520626024 L -75.92410532871365,50.0065469793835 L -74.98085458832912,50.04417838041107 L -74.03825823212922,49.99269837596355 L -73.10471609519962,49.852565723964965 L -72.18854732703008,49.62502919984201 L -71.2979162564053,49.31211646821064 L -70.440759635962,48.91661601358453 L -70.44073463596199,48.916603013584535 L -70.25351413609484,48.81671064245505 L -70.25331313609483,48.81660064245504 L -70.0692609006866,48.71333693734818 L -70.06742790068661,48.71228293734818 L -70.03015594964072,48.69074417550047 L -70.02695494964071,48.688885175500474 L -69.17856996707039,48.13694992064043 L -68.39032133606489,47.50208481691662 L -67.67028379365559,46.79079335645232 L -67.02583332957329,46.01036193502415 L -66.46357162737634,45.1687852109812 L -65.98925843749049,44.274684208795996 L -65.60775257492432,43.33721800618605 L -65.3229621460734,42.36598990947385 L -65.13780451448466,41.37094907831529 L -65.0541764156875,40.362288607542375 L -65.07293452723216,39.350341110159455 L -65.19388669297408,38.34547287112977 L -65.41579389150131,37.357977656229934 L -65.73638292854115,36.39797126378344 L -66.15236972332592,35.475287899474225 L -66.15531572332591,35.46954789947422 L -66.61947109409091,34.660459296595626 L -67.1569946767691,33.8981385153081 L -67.76320966908254,33.18921823868143 L -67.76430866908255,33.188048238681425 L -67.78693195886076,33.16404285212981 L -67.78750495886077,33.16343685212981 L -68.24913400518601,32.70596108479671 L -68.249190005186,32.70590908479671 L -68.98398591107194,32.086608081818184 L -69.77483313238638,31.540696524754054 L -70.61442852122069,31.073215681675848 L -71.49501876044509,30.6884825453597 L -72.40847196239454,30.390049967638614 L -73.34635276349735,30.180673850281106 L -74.30000022137868,30.06228769537504 L -75.26060779509118,30.035984750233318 L -76.21930466988849,30.102007911705826 L -77.16723767554065,30.25974748312722 L -78.09565304170978,30.50774680461417 L -78.99597723540869,30.843715704718594 L -79.85989613404189,31.264551649216386 L -79.8615291340419,31.265446649216386 L -79.9259888836363,31.301084495469265 L -79.93052188363629,31.30361249546927 L -80.02918910557004,31.359373372448843 L -80.03024910557004,31.359980372448838 L -80.97304605965613,31.972711371481545 L -81.84109577476497,32.68741065503309 L -81.84121177476497,32.68751765503309 L -82.5180449961893,33.37516468639591 L -83.12545638883668,34.12483998240608 L -83.65779118558767,34.92956435356295 L -84.1100935536383,35.78184612458798 L -84.47815273140282,36.67375087904836 L -84.7585422290893,37.59697532573122 L -84.94865172800542,38.54292459910036 L -85.04671138162448,39.50279227419827 L -85.05180829217775,40.46764235108512 L -84.96389500938272,41.42849244557122 L -84.7837899721869,42.376397411769005 L -84.51316988941512,43.302532617970755 L -84.15455413025352,44.198276100585446 L -83.71128126988845,45.05528883131324 L -83.18747800865196,45.865592350300886 L -82.58802075402428,46.62164304254315 L -81.99173596730908,47.24039662573261 z\" /></g></svg>"
      ],
      "text/plain": [
       "<POLYGON ((-81.992 47.24, -81.995 47.244, -81.989 47.249, -81.923 47.311, -8...>"
      ]
     },
     "execution_count": 10,
     "metadata": {},
     "output_type": "execute_result"
    }
   ],
   "source": [
    "shape(geom).buffer(10)"
   ]
  },
  {
   "cell_type": "markdown",
   "metadata": {},
   "source": [
    "What? Why has it become a round circle? This is because the unit is the degree, 10-degree is a pretty large distance. We need to reproject the geometry into the local projection with the unit of `m` or `ft`"
   ]
  },
  {
   "cell_type": "markdown",
   "metadata": {},
   "source": [
    "Reproject feature using `pyproj`"
   ]
  },
  {
   "cell_type": "code",
   "execution_count": 11,
   "metadata": {},
   "outputs": [],
   "source": [
    "from pyproj import Transformer\n",
    "from shapely.ops import transform\n",
    "\n",
    "# Define a transformer to convert from EPSG:4326 to EPSG:3857\n",
    "transformer = Transformer.from_crs(\"EPSG:4269\", \"EPSG:2272\", always_xy=True)\n",
    "\n",
    "# Reproject the geometry\n",
    "reprojected_geom = transform(transformer.transform, shape(geom))"
   ]
  },
  {
   "cell_type": "code",
   "execution_count": 12,
   "metadata": {},
   "outputs": [
    {
     "data": {
      "image/svg+xml": [
       "<svg xmlns=\"http://www.w3.org/2000/svg\" xmlns:xlink=\"http://www.w3.org/1999/xlink\" width=\"300\" height=\"300\" viewBox=\"2721147.0851016412 266557.180390083 3633.2204230274074 4164.534654350893\" preserveAspectRatio=\"xMinYMin meet\"><g transform=\"matrix(1,0,0,-1,0,537278.895434517)\"><path fill-rule=\"evenodd\" fill=\"#66cc99\" stroke=\"#555555\" stroke-width=\"27.763564362339288\" opacity=\"0.6\" d=\"M 2721301.3271258767,268155.0877364073 L 2721478.3376927422,268386.0756604182 L 2721635.9377122046,268592.0551701313 L 2721822.10216912,268834.98717924685 L 2721907.243314183,268945.8247873837 L 2721971.7888170057,269024.69191079796 L 2721985.529047248,269042.60452000855 L 2722341.6151070553,269509.3932479507 L 2722469.0006342903,269676.91832617356 L 2722512.000289679,269736.5425970876 L 2722626.76568485,269895.3011242064 L 2722673.953320586,269964.5292671286 L 2722764.027946632,270097.02334935666 L 2722947.75273778,270345.72136307764 L 2723120.2519587926,270567.4730201987 L 2723127.392657482,270562.9531698112 L 2723184.864902198,270524.6183055685 L 2723456.119902337,270328.44490818866 L 2723709.5516535016,270156.51253748225 L 2723731.219228403,270134.94301178044 L 2723939.6478238734,269987.513884494 L 2724163.5584488525,269828.532849027 L 2724626.063500433,269507.01685309387 L 2724603.670699001,269478.9977490016 L 2724473.57325659,269281.4931295139 L 2724340.8435397716,269087.553298617 L 2724199.7475725287,268883.1537439951 L 2724038.1679167715,268643.1413683276 L 2723958.810425897,268526.64170293324 L 2723882.688202231,268414.25018162664 L 2723723.4207951766,268180.87089331856 L 2723555.0683003473,267933.00151918083 L 2723475.559690328,267812.12550367974 L 2723404.550446851,267706.4519338446 L 2723865.4723224076,267391.7971836898 L 2723717.4855008265,267174.0699533424 L 2723570.8954236973,266956.38636372046 L 2723557.3904596986,266939.9378796252 L 2723484.799592338,266830.93576877547 L 2723417.259077094,266730.8350098358 L 2723402.1635043994,266711.4224143182 L 2722935.1559354975,267023.3490447824 L 2722472.7293526605,267341.61958215636 L 2722009.9214172494,267654.4200066914 L 2721638.380537769,267905.13712279376 L 2721548.95120294,267971.6581675642 L 2721445.1710691876,268040.2935041891 L 2721334.9791911696,268117.116359592 L 2721301.3271258767,268155.0877364073 z\" /></g></svg>"
      ],
      "text/plain": [
       "<POLYGON ((2721301.327 268155.088, 2721478.338 268386.076, 2721635.938 26859...>"
      ]
     },
     "execution_count": 12,
     "metadata": {},
     "output_type": "execute_result"
    }
   ],
   "source": [
    "reprojected_geom"
   ]
  },
  {
   "cell_type": "code",
   "execution_count": 13,
   "metadata": {},
   "outputs": [
    {
     "data": {
      "image/svg+xml": [
       "<svg xmlns=\"http://www.w3.org/2000/svg\" xmlns:xlink=\"http://www.w3.org/1999/xlink\" width=\"300\" height=\"300\" viewBox=\"2721039.1501473063 266449.18752993894 3849.1538731181063 4380.494042435486\" preserveAspectRatio=\"xMinYMin meet\"><g transform=\"matrix(1,0,0,-1,0,537278.8691023134)\"><path fill-rule=\"evenodd\" fill=\"#66cc99\" stroke=\"#555555\" stroke-width=\"29.203293616236575\" opacity=\"0.6\" d=\"M 2721226.4881446967,268088.76182219625 L 2721220.328238154,268096.4432124717 L 2721214.953601289,268104.69315088115 L 2721210.4163402435,268113.43165575236 L 2721206.7604429475,268122.574008849 L 2721204.021352669,268132.0315766987 L 2721202.225624398,268141.7126698786 L 2721201.3906673966,268151.523431928 L 2721201.524576423,268161.3687492695 L 2721202.626053254,268171.1531733187 L 2721204.684419269,268180.78184584045 L 2721207.679718979,268190.1614185829 L 2721211.582913491,268199.20095827174 L 2721216.3561620344,268207.8128281921 L 2721221.9531888217,268215.91353781073 L 2721398.9408484176,268446.8715692407 L 2721556.517983523,268652.82116963924 L 2721742.728374648,268895.81316671165 L 2721742.7987950975,268895.9049506163 L 2721827.93994016,269006.7425587532 L 2721829.8561721505,269009.15906126465 L 2721893.4031831445,269086.8061433926 L 2721906.1027036104,269103.3620193321 L 2722262.060940941,269569.98318640003 L 2722388.63317855,269736.43870506505 L 2722430.8921491164,269795.03592606174 L 2722430.9581690645,269795.12736205506 L 2722544.913913235,269952.7658738582 L 2722591.288785822,270020.80162638944 L 2722681.329100506,270153.245238772 L 2722683.595574712,270156.4424838784 L 2722867.32036586,270405.1404975994 L 2722868.8219510834,270407.1211261995 L 2723041.321172096,270628.87278332055 L 2723047.725760672,270636.32031924604 L 2723054.830114979,270643.10358513106 L 2723062.565688977,270649.1571329425 L 2723070.8578463313,270654.42255529907 L 2723079.6265805387,270658.8490490121 L 2723088.787286864,270662.3939052579 L 2723098.2515786486,270665.0229216519 L 2723107.928140103,270666.7107322486 L 2723117.7236073622,270667.4410522842 L 2723127.543469306,270667.20683529886 L 2723137.292979441,270666.01034112455 L 2723146.878070062,270663.8631140811 L 2723156.206259857,270660.7858715911 L 2723165.1875462094,270656.8083042891 L 2723173.7352735857,270651.9687895527 L 2723180.875972275,270647.4489391652 L 2723182.8827524395,270646.14481218957 L 2723240.3549971553,270607.80994794687 L 2723243.4663646575,270605.648353067 L 2723513.5042685047,270410.35516771773 L 2723765.693036273,270239.26605789363 L 2723773.1754329335,270233.66183878056 L 2723780.1017989153,270227.3833846769 L 2723795.8201061427,270211.7362052732 L 2723997.3953462993,270069.1547054948 L 2723997.541103253,270069.05141084036 L 2724221.0461758585,269910.3583256942 L 2724683.1428307747,269589.12623165554 L 2724690.7754200143,269583.2557372942 L 2724697.808006014,269576.6783626882 L 2724704.175383253,269569.4550926777 L 2724709.8185139685,269561.65290078835 L 2724714.6850755475,269553.3441282589 L 2724718.7299456587,269544.6058132991 L 2724721.9156206204,269535.51897679846 L 2724724.212563134,269526.1678711078 L 2724725.5994761507,269516.6391988585 L 2724726.063500334,269507.0213090636 L 2724725.600333293,269497.40337795333 L 2724724.2142694714,269487.87458214106 L 2724721.9181603314,269478.52327178535 L 2724718.7332951957,269469.43615141546 L 2724714.6892038547,269460.6974760139 L 2724709.8233827674,269452.38826981245 L 2724704.180947401,269444.5855750417 L 2724684.6551462985,269420.1538193621 L 2724557.0838507307,269226.4842150889 L 2724556.09723121,269225.0148716366 L 2724423.367514392,269031.07504073967 L 2724423.1402055975,269030.744331068 L 2724282.375470786,268826.8246183778 L 2724121.121429578,268587.2959145012 L 2724120.81511047,268586.8435764195 L 2724041.5324924984,268470.45382715284 L 2723965.4848490465,268358.17242064985 L 2723965.287015675,268357.88143126183 L 2723806.082038155,268124.59362281486 L 2723638.207841777,267877.42845883954 L 2723559.1061854064,267757.17113024055 L 2723558.5610819273,267756.35123548587 L 2723542.9186426536,267733.0726830323 L 2723921.853680425,267474.3873917542 L 2723929.6677076,267468.47151133587 L 2723936.865095335,267461.8191229213 L 2723943.376707925,267454.49412713316 L 2723949.139996994,267446.5668854356 L 2723954.0996023105,267438.11354426615 L 2723958.2078835615,267429.21530359826 L 2723961.4253779687,267419.95763696136 L 2723963.7211793554,267410.4294704108 L 2723965.073235019,267400.7223283338 L 2723965.4685575655,267390.9294542967 L 2723964.9033496566,267381.14491537854 L 2723963.3830404924,267371.4626985938 L 2723960.9222336547,267361.9758080849 L 2723957.544566832,267352.7753717551 L 2723953.2824847647,267343.94976592466 L 2723948.1769275907,267335.58376641694 L 2723800.311195436,267118.03469021304 L 2723653.84143908,266900.5297747436 L 2723648.182545126,266892.9300727693 L 2723637.8508402323,266880.3464861977 L 2723568.0318211387,266775.50656989205 L 2723567.695017528,266775.00412761734 L 2723500.154502284,266674.90336867765 L 2723496.200432618,266669.448835594 L 2723481.1048599235,266650.0362400764 L 2723474.5879416564,266642.46807516547 L 2723467.3486088654,266635.58771147195 L 2723459.459071971,266629.46377879626 L 2723450.9980270094,266624.15736174013 L 2723442.049870656,266619.7213904044 L 2723432.7038583937,266616.2001124247 L 2723423.0532142124,266613.62865161354 L 2723413.1942007244,266612.0326576096 L 2723403.2251589703,266611.42805002915 L 2723393.245527494,266611.8208596721 L 2723383.3548504687,266613.2071683667 L 2723373.65178477,266615.5731480519 L 2723364.2331159017,266618.8951987088 L 2723355.1927925837,266623.1401837645 L 2723346.62098964,266628.2657606206 L 2722879.613420738,266940.1923910848 L 2722878.46045034,266940.97415805864 L 2722416.3820572128,267259.0050497676 L 2721953.9548137444,267571.54817404423 L 2721582.4444380864,267822.24470605794 L 2721578.6973730377,267824.90047376323 L 2721491.484393346,267889.77290670417 L 2721390.0082439505,267956.88449561165 L 2721387.9805521434,267958.26153017755 L 2721277.7886741254,268035.08438558044 L 2721268.4989897637,268042.41439963743 L 2721260.1402099896,268050.79044538096 L 2721226.4881446967,268088.76182219625 z\" /></g></svg>"
      ],
      "text/plain": [
       "<POLYGON ((2721226.488 268088.762, 2721220.328 268096.443, 2721214.954 26810...>"
      ]
     },
     "execution_count": 13,
     "metadata": {},
     "output_type": "execute_result"
    }
   ],
   "source": [
    "reprojected_geom.buffer(100)"
   ]
  },
  {
   "cell_type": "markdown",
   "metadata": {},
   "source": [
    "Write a shapefile using `fiona`, let save the buffered shapefile"
   ]
  },
  {
   "cell_type": "code",
   "execution_count": null,
   "metadata": {},
   "outputs": [],
   "source": [
    "from shapely.geometry import Point, mapping\n",
    "import pandas\n",
    "\n",
    "# prepare the schema and crs of the output shapefile\n",
    "schema = {\n",
    "    'geometry': 'Point',\n",
    "    'properties': {\n",
    "        'id': 'str: 20',\n",
    "        'name': 'str: 20',\n",
    "        'address': 'str: 20',\n",
    "        'city': 'str: 20',\n",
    "        'state':'str: 20',\n",
    "        'zip': 'str: 7'\n",
    "    }\n",
    "}\n",
    "\n",
    "crs = {'init': u'epsg:4326'}\n",
    "\n",
    "# read the CSV file using pandas\n",
    "coffee_shop_sheet = pandas.read_csv('data/cambridge_coffee_shops.csv')\n",
    "\n",
    "\n",
    "# The output shapefile\n",
    "coffee_shop_shp = 'data/cambridge_coffee_shops2.shp' \n",
    "\n",
    "with fiona.open(coffee_shop_shp, 'w', driver = \"ESRI Shapefile\", crs = crs, schema=schema) as output:\n",
    "    for row in coffee_shop_sheet.iterrows():\n",
    "        lon = row[1][7]\n",
    "        lat = row[1][6]\n",
    "        \n",
    "        id_ = row[1][0]\n",
    "        name = row[1][1]\n",
    "        address = row[1][2]\n",
    "        city = row[1][3]\n",
    "        state = row[1][4]\n",
    "        zipcode = row[1][5]\n",
    "        \n",
    "        point = Point(float(lon), float(lat))\n",
    "        output.write({'properties':{'id': id_,\n",
    "                                    'name': name,\n",
    "                                    'address': address,\n",
    "                                    'city': city,\n",
    "                                    'state': state,\n",
    "                                    'zip': zipcode\n",
    "                                    },\n",
    "                      'geometry': mapping(point)\n",
    "                     })\n",
    "        \n",
    "print ('You have export the shapefile successfully')"
   ]
  },
  {
   "cell_type": "code",
   "execution_count": null,
   "metadata": {},
   "outputs": [],
   "source": [
    "# # Update the feature geometry with the reprojected geometry\n",
    "# feature[\"geometry\"] = mapping(reprojected_geom)\n",
    "\n",
    "# # Write the feature to the output shapefile\n",
    "# dst.write(feature)"
   ]
  }
 ],
 "metadata": {
  "kernelspec": {
   "display_name": "base",
   "language": "python",
   "name": "python3"
  },
  "language_info": {
   "codemirror_mode": {
    "name": "ipython",
    "version": 3
   },
   "file_extension": ".py",
   "mimetype": "text/x-python",
   "name": "python",
   "nbconvert_exporter": "python",
   "pygments_lexer": "ipython3",
   "version": "3.10.14"
  }
 },
 "nbformat": 4,
 "nbformat_minor": 4
}

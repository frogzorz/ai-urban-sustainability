{
 "cells": [
  {
   "cell_type": "markdown",
   "id": "346dfb5f",
   "metadata": {},
   "source": [
    "# Homework 3: Modeling flood risk in Pennsylvania using a HAND model\n",
    "### Notebook and report by Jamie Song for MUSA 6950"
   ]
  },
  {
   "cell_type": "markdown",
   "id": "c43f0455-d9a7-4db9-a703-2403103258d1",
   "metadata": {},
   "source": [
    "### Inundation risk modeling with the HAND model using `PySheds`\n",
    "\n",
    "We have adapted this notebook from Professor Xiaojiang Li, which demonstrates flood risk assessment using the Height Above Nearest Drainage (HAND) model. By using Digital Elevation Models (DEMs) and calculating the vertical distance of terrain points from the drainage network, the HAND model helps classify areas based on their flood risk potential. \n",
    "\n",
    "The workflow is implemented with Python libraries such as `rasterio`, `numpy`, `pysheds`, and `matplotlib`. The notebook covers data preparation, HAND calculation, and flood risk classification.\n",
    "\n",
    "This adaptation of the notebook was created to generate a HAND model across the Commonwealth of Pennsylvania, which will be used in a report (attached as a PDF)."
   ]
  },
  {
   "cell_type": "markdown",
   "id": "07c96893-9e2c-469b-9015-2d0304c0415c",
   "metadata": {},
   "source": [
    "First, we must install any packages that are not already in the environment."
   ]
  },
  {
   "cell_type": "code",
   "execution_count": null,
   "id": "a68a5eaf-a7fa-48a0-9d2d-eee74e1a797e",
   "metadata": {},
   "outputs": [
    {
     "name": "stdout",
     "output_type": "stream",
     "text": [
      "Requirement already satisfied: pysheds in /Users/songj/miniforge3/lib/python3.10/site-packages (0.4)\n",
      "Requirement already satisfied: affine in /Users/songj/miniforge3/lib/python3.10/site-packages (from pysheds) (2.4.0)\n",
      "Requirement already satisfied: geojson in /Users/songj/.local/lib/python3.10/site-packages (from pysheds) (3.1.0)\n",
      "Requirement already satisfied: looseversion in /Users/songj/miniforge3/lib/python3.10/site-packages (from pysheds) (1.3.0)\n",
      "Requirement already satisfied: numba in /Users/songj/miniforge3/lib/python3.10/site-packages (from pysheds) (0.61.0)\n",
      "Requirement already satisfied: numpy in /Users/songj/miniforge3/lib/python3.10/site-packages (from pysheds) (1.26.4)\n",
      "Requirement already satisfied: pandas in /Users/songj/miniforge3/lib/python3.10/site-packages (from pysheds) (2.2.3)\n",
      "Requirement already satisfied: pyproj in /Users/songj/miniforge3/lib/python3.10/site-packages (from pysheds) (3.7.0)\n",
      "Requirement already satisfied: rasterio>=1 in /Users/songj/miniforge3/lib/python3.10/site-packages (from pysheds) (1.4.1)\n",
      "Requirement already satisfied: scikit-image in /Users/songj/miniforge3/lib/python3.10/site-packages (from pysheds) (0.25.1)\n",
      "Requirement already satisfied: scipy in /Users/songj/miniforge3/lib/python3.10/site-packages (from pysheds) (1.14.1)\n",
      "Requirement already satisfied: attrs in /Users/songj/miniforge3/lib/python3.10/site-packages (from rasterio>=1->pysheds) (24.2.0)\n",
      "Requirement already satisfied: certifi in /Users/songj/miniforge3/lib/python3.10/site-packages (from rasterio>=1->pysheds) (2024.8.30)\n",
      "Requirement already satisfied: click>=4.0 in /Users/songj/miniforge3/lib/python3.10/site-packages (from rasterio>=1->pysheds) (8.1.7)\n",
      "Requirement already satisfied: cligj>=0.5 in /Users/songj/miniforge3/lib/python3.10/site-packages (from rasterio>=1->pysheds) (0.7.2)\n",
      "Requirement already satisfied: click-plugins in /Users/songj/miniforge3/lib/python3.10/site-packages (from rasterio>=1->pysheds) (1.1.1)\n",
      "Requirement already satisfied: pyparsing in /Users/songj/miniforge3/lib/python3.10/site-packages (from rasterio>=1->pysheds) (3.1.4)\n",
      "Requirement already satisfied: llvmlite<0.45,>=0.44.0dev0 in /Users/songj/miniforge3/lib/python3.10/site-packages (from numba->pysheds) (0.44.0)\n",
      "Requirement already satisfied: python-dateutil>=2.8.2 in /Users/songj/miniforge3/lib/python3.10/site-packages (from pandas->pysheds) (2.9.0)\n",
      "Requirement already satisfied: pytz>=2020.1 in /Users/songj/miniforge3/lib/python3.10/site-packages (from pandas->pysheds) (2024.1)\n",
      "Requirement already satisfied: tzdata>=2022.7 in /Users/songj/miniforge3/lib/python3.10/site-packages (from pandas->pysheds) (2024.2)\n",
      "Requirement already satisfied: networkx>=3.0 in /Users/songj/miniforge3/lib/python3.10/site-packages (from scikit-image->pysheds) (3.4.2)\n",
      "Requirement already satisfied: pillow>=10.1 in /Users/songj/miniforge3/lib/python3.10/site-packages (from scikit-image->pysheds) (10.4.0)\n",
      "Requirement already satisfied: imageio!=2.35.0,>=2.33 in /Users/songj/miniforge3/lib/python3.10/site-packages (from scikit-image->pysheds) (2.37.0)\n",
      "Requirement already satisfied: tifffile>=2022.8.12 in /Users/songj/miniforge3/lib/python3.10/site-packages (from scikit-image->pysheds) (2025.1.10)\n",
      "Requirement already satisfied: packaging>=21 in /Users/songj/miniforge3/lib/python3.10/site-packages (from scikit-image->pysheds) (24.0)\n",
      "Requirement already satisfied: lazy-loader>=0.4 in /Users/songj/miniforge3/lib/python3.10/site-packages (from scikit-image->pysheds) (0.4)\n",
      "Requirement already satisfied: six>=1.5 in /Users/songj/miniforge3/lib/python3.10/site-packages (from python-dateutil>=2.8.2->pandas->pysheds) (1.16.0)\n",
      "Requirement already satisfied: seaborn in /Users/songj/miniforge3/lib/python3.10/site-packages (0.13.2)\n",
      "Requirement already satisfied: numpy!=1.24.0,>=1.20 in /Users/songj/miniforge3/lib/python3.10/site-packages (from seaborn) (1.26.4)\n",
      "Requirement already satisfied: pandas>=1.2 in /Users/songj/miniforge3/lib/python3.10/site-packages (from seaborn) (2.2.3)\n",
      "Requirement already satisfied: matplotlib!=3.6.1,>=3.4 in /Users/songj/miniforge3/lib/python3.10/site-packages (from seaborn) (3.9.2)\n",
      "Requirement already satisfied: contourpy>=1.0.1 in /Users/songj/miniforge3/lib/python3.10/site-packages (from matplotlib!=3.6.1,>=3.4->seaborn) (1.3.0)\n",
      "Requirement already satisfied: cycler>=0.10 in /Users/songj/miniforge3/lib/python3.10/site-packages (from matplotlib!=3.6.1,>=3.4->seaborn) (0.12.1)\n",
      "Requirement already satisfied: fonttools>=4.22.0 in /Users/songj/miniforge3/lib/python3.10/site-packages (from matplotlib!=3.6.1,>=3.4->seaborn) (4.54.1)\n",
      "Requirement already satisfied: kiwisolver>=1.3.1 in /Users/songj/miniforge3/lib/python3.10/site-packages (from matplotlib!=3.6.1,>=3.4->seaborn) (1.4.7)\n",
      "Requirement already satisfied: packaging>=20.0 in /Users/songj/miniforge3/lib/python3.10/site-packages (from matplotlib!=3.6.1,>=3.4->seaborn) (24.0)\n",
      "Requirement already satisfied: pillow>=8 in /Users/songj/miniforge3/lib/python3.10/site-packages (from matplotlib!=3.6.1,>=3.4->seaborn) (10.4.0)\n",
      "Requirement already satisfied: pyparsing>=2.3.1 in /Users/songj/miniforge3/lib/python3.10/site-packages (from matplotlib!=3.6.1,>=3.4->seaborn) (3.1.4)\n",
      "Requirement already satisfied: python-dateutil>=2.7 in /Users/songj/miniforge3/lib/python3.10/site-packages (from matplotlib!=3.6.1,>=3.4->seaborn) (2.9.0)\n",
      "Requirement already satisfied: pytz>=2020.1 in /Users/songj/miniforge3/lib/python3.10/site-packages (from pandas>=1.2->seaborn) (2024.1)\n",
      "Requirement already satisfied: tzdata>=2022.7 in /Users/songj/miniforge3/lib/python3.10/site-packages (from pandas>=1.2->seaborn) (2024.2)\n",
      "Requirement already satisfied: six>=1.5 in /Users/songj/miniforge3/lib/python3.10/site-packages (from python-dateutil>=2.7->matplotlib!=3.6.1,>=3.4->seaborn) (1.16.0)\n",
      "Requirement already satisfied: rasterio in /Users/songj/miniforge3/lib/python3.10/site-packages (1.4.1)\n",
      "Requirement already satisfied: affine in /Users/songj/miniforge3/lib/python3.10/site-packages (from rasterio) (2.4.0)\n",
      "Requirement already satisfied: attrs in /Users/songj/miniforge3/lib/python3.10/site-packages (from rasterio) (24.2.0)\n",
      "Requirement already satisfied: certifi in /Users/songj/miniforge3/lib/python3.10/site-packages (from rasterio) (2024.8.30)\n",
      "Requirement already satisfied: click>=4.0 in /Users/songj/miniforge3/lib/python3.10/site-packages (from rasterio) (8.1.7)\n",
      "Requirement already satisfied: cligj>=0.5 in /Users/songj/miniforge3/lib/python3.10/site-packages (from rasterio) (0.7.2)\n",
      "Requirement already satisfied: numpy>=1.24 in /Users/songj/miniforge3/lib/python3.10/site-packages (from rasterio) (1.26.4)\n",
      "Requirement already satisfied: click-plugins in /Users/songj/miniforge3/lib/python3.10/site-packages (from rasterio) (1.1.1)\n",
      "Requirement already satisfied: pyparsing in /Users/songj/miniforge3/lib/python3.10/site-packages (from rasterio) (3.1.4)\n",
      "Requirement already satisfied: fiona in /Users/songj/miniforge3/lib/python3.10/site-packages (1.10.1)\n",
      "Requirement already satisfied: attrs>=19.2.0 in /Users/songj/miniforge3/lib/python3.10/site-packages (from fiona) (24.2.0)\n",
      "Requirement already satisfied: certifi in /Users/songj/miniforge3/lib/python3.10/site-packages (from fiona) (2024.8.30)\n",
      "Requirement already satisfied: click~=8.0 in /Users/songj/miniforge3/lib/python3.10/site-packages (from fiona) (8.1.7)\n",
      "Requirement already satisfied: click-plugins>=1.0 in /Users/songj/miniforge3/lib/python3.10/site-packages (from fiona) (1.1.1)\n",
      "Requirement already satisfied: cligj>=0.5 in /Users/songj/miniforge3/lib/python3.10/site-packages (from fiona) (0.7.2)\n"
     ]
    }
   ],
   "source": [
    "# uncomment and run chunk to install packages\n",
    "# !pip install pysheds\n",
    "# !pip install seaborn\n",
    "# !pip install rasterio\n",
    "# !pip install fiona"
   ]
  },
  {
   "cell_type": "code",
   "execution_count": null,
   "id": "226ead96-3af0-42ce-b60d-03f949b43a71",
   "metadata": {},
   "outputs": [],
   "source": [
    "# import necessary libraries\n",
    "import numpy as np\n",
    "import pysheds\n",
    "from pysheds.grid import Grid\n",
    "import requests\n",
    "import os\n",
    "import matplotlib.pyplot as plt\n",
    "from matplotlib import colors\n",
    "import seaborn as sns\n",
    "import rasterio as rio\n",
    "from rasterio.merge import merge\n",
    "from rasterio.mask import mask\n",
    "import fiona\n",
    "from fiona.transform import transform_geom\n",
    "import zipfile\n",
    "import io\n"
   ]
  },
  {
   "cell_type": "markdown",
   "id": "7add53e9",
   "metadata": {},
   "source": [
    "## Download DEM files"
   ]
  },
  {
   "cell_type": "code",
   "execution_count": null,
   "id": "f6522075-1dc4-4dac-bc70-afa322f75bcb",
   "metadata": {},
   "outputs": [
    {
     "name": "stdout",
     "output_type": "stream",
     "text": [
      "Tiles to Download: ['n39w081', 'n39w080', 'n39w079', 'n39w078', 'n39w077', 'n39w076', 'n39w075', 'n39w074', 'n40w081', 'n40w080', 'n40w079', 'n40w078', 'n40w077', 'n40w076', 'n40w075', 'n40w074', 'n41w081', 'n41w080', 'n41w079', 'n41w078', 'n41w077', 'n41w076', 'n41w075', 'n41w074', 'n42w081', 'n42w080', 'n42w079', 'n42w078', 'n42w077', 'n42w076', 'n42w075', 'n42w074', 'n43w081', 'n43w080', 'n43w079', 'n43w078', 'n43w077', 'n43w076', 'n43w075', 'n43w074']\n"
     ]
    }
   ],
   "source": [
    "# define a function to standardize USGS tile names\n",
    "def get_tile_name(lat, lon):\n",
    "    \"\"\"\n",
    "    Returns the USGS tile name formatted correctly (e.g., 'n39w076').\n",
    "    \"\"\"\n",
    "    lat_tile = f\"n{int(abs(lat)):02d}\" if lat >= 0 else f\"s{int(abs(lat)):02d}\"\n",
    "    lon_tile = f\"w{int(abs(lon)):03d}\" if lon < 0 else f\"e{int(abs(lon)):03d}\"\n",
    "    return f\"{lat_tile}{lon_tile}\"\n",
    "\n",
    "# define a function to retrieve tile names covering a bounding box\n",
    "def get_tiles_in_bbox(min_lat, max_lat, min_lon, max_lon):\n",
    "    \"\"\"\n",
    "    Returns a list of tile names covering a bounding box.\n",
    "    \"\"\"\n",
    "    tile_list = []\n",
    "    for lat in range(int(min_lat), int(max_lat) + 1):\n",
    "        for lon in range(int(min_lon), int(max_lon) + 1):\n",
    "            tile_list.append(get_tile_name(lat, lon))\n",
    "    return tile_list\n",
    "\n",
    "# get tiles for the full extent of PA land area\n",
    "tiles = get_tiles_in_bbox(39.6, 43.0, -81.0, -74.5)\n",
    "print(\"Tiles to Download:\", tiles)"
   ]
  },
  {
   "cell_type": "code",
   "execution_count": null,
   "id": "19ab61f3",
   "metadata": {},
   "outputs": [
    {
     "name": "stdout",
     "output_type": "stream",
     "text": [
      "✅ DEM Tile n39w081 downloaded successfully!\n",
      "⚠️ File DEM_Tiles/n39w080.tif already exists. Skipping download.\n",
      "⚠️ File DEM_Tiles/n39w079.tif already exists. Skipping download.\n",
      "⚠️ File DEM_Tiles/n39w078.tif already exists. Skipping download.\n",
      "⚠️ File DEM_Tiles/n39w077.tif already exists. Skipping download.\n",
      "⚠️ File DEM_Tiles/n39w076.tif already exists. Skipping download.\n",
      "⚠️ File DEM_Tiles/n39w075.tif already exists. Skipping download.\n",
      "❌ Error: Tile n39w074 not found. Check availability.\n",
      "https://prd-tnm.s3.amazonaws.com/StagedProducts/Elevation/1/TIFF/current/n39w074/USGS_1_n39w074.tif\n",
      "✅ DEM Tile n40w081 downloaded successfully!\n",
      "⚠️ File DEM_Tiles/n40w080.tif already exists. Skipping download.\n",
      "⚠️ File DEM_Tiles/n40w079.tif already exists. Skipping download.\n",
      "⚠️ File DEM_Tiles/n40w078.tif already exists. Skipping download.\n",
      "⚠️ File DEM_Tiles/n40w077.tif already exists. Skipping download.\n",
      "⚠️ File DEM_Tiles/n40w076.tif already exists. Skipping download.\n",
      "⚠️ File DEM_Tiles/n40w075.tif already exists. Skipping download.\n",
      "❌ Error: Tile n40w074 not found. Check availability.\n",
      "https://prd-tnm.s3.amazonaws.com/StagedProducts/Elevation/1/TIFF/current/n40w074/USGS_1_n40w074.tif\n",
      "✅ DEM Tile n41w081 downloaded successfully!\n",
      "⚠️ File DEM_Tiles/n41w080.tif already exists. Skipping download.\n",
      "⚠️ File DEM_Tiles/n41w079.tif already exists. Skipping download.\n",
      "⚠️ File DEM_Tiles/n41w078.tif already exists. Skipping download.\n",
      "⚠️ File DEM_Tiles/n41w077.tif already exists. Skipping download.\n",
      "⚠️ File DEM_Tiles/n41w076.tif already exists. Skipping download.\n",
      "⚠️ File DEM_Tiles/n41w075.tif already exists. Skipping download.\n",
      "⚠️ File DEM_Tiles/n41w074.tif already exists. Skipping download.\n",
      "✅ DEM Tile n42w081 downloaded successfully!\n",
      "⚠️ File DEM_Tiles/n42w080.tif already exists. Skipping download.\n",
      "⚠️ File DEM_Tiles/n42w079.tif already exists. Skipping download.\n",
      "⚠️ File DEM_Tiles/n42w078.tif already exists. Skipping download.\n",
      "⚠️ File DEM_Tiles/n42w077.tif already exists. Skipping download.\n",
      "⚠️ File DEM_Tiles/n42w076.tif already exists. Skipping download.\n",
      "⚠️ File DEM_Tiles/n42w075.tif already exists. Skipping download.\n",
      "⚠️ File DEM_Tiles/n42w074.tif already exists. Skipping download.\n",
      "✅ DEM Tile n43w081 downloaded successfully!\n",
      "✅ DEM Tile n43w080 downloaded successfully!\n",
      "✅ DEM Tile n43w079 downloaded successfully!\n",
      "✅ DEM Tile n43w078 downloaded successfully!\n",
      "✅ DEM Tile n43w077 downloaded successfully!\n",
      "✅ DEM Tile n43w076 downloaded successfully!\n",
      "✅ DEM Tile n43w075 downloaded successfully!\n",
      "✅ DEM Tile n43w074 downloaded successfully!\n"
     ]
    }
   ],
   "source": [
    "# define a function to download DEM tiles\n",
    "def download_dem_1arc(tile_name, save_path=\".\"):\n",
    "    \"\"\"\n",
    "    Downloads a 1-arc-second (~30m) DEM tile from USGS TNM.\n",
    "    \n",
    "    Parameters:\n",
    "        tile_name (str): Tile name (e.g., \"n39w076\").\n",
    "        save_path (str): Directory to save the DEM file.\n",
    "    \"\"\"\n",
    "    base_url = \"https://prd-tnm.s3.amazonaws.com/StagedProducts/Elevation/1/TIFF/current\"\n",
    "    url = f\"{base_url}/{tile_name}/USGS_1_{tile_name}.tif\"\n",
    "    \n",
    "    output_file = os.path.join(save_path, f\"{tile_name}.tif\")\n",
    "    \n",
    "    # Check if the file already exists\n",
    "    if os.path.exists(output_file):\n",
    "        print(f\"⚠️ File {output_file} already exists. Skipping download.\")\n",
    "        return    \n",
    "    \n",
    "    response = requests.get(url, stream=True)\n",
    "    if response.status_code == 200:\n",
    "        with open(output_file, \"wb\") as file:\n",
    "            for chunk in response.iter_content(1024):\n",
    "                file.write(chunk)\n",
    "        print(f\"✅ DEM Tile {tile_name} downloaded successfully!\")\n",
    "    else:\n",
    "        print(f\"❌ Error: Tile {tile_name} not found. Check availability.\")\n",
    "        print(url)\n",
    "# download multiple tiles\n",
    "save_directory = \"DEM_Tiles\"\n",
    "os.makedirs(save_directory, exist_ok=True)\n",
    "\n",
    "# run function\n",
    "for tile in tiles:\n",
    "    download_dem_1arc(tile, save_directory)"
   ]
  },
  {
   "cell_type": "code",
   "execution_count": null,
   "id": "dff03b9c-ee57-4879-8899-9be3ead5c4b0",
   "metadata": {},
   "outputs": [],
   "source": [
    "# build a pipeline to calculate HAND model for each tile\n",
    "def process_dem_tiles(input_dir, output_dir):\n",
    "    # Create output directory if it doesn't exist\n",
    "    if not os.path.exists(output_dir):\n",
    "        os.makedirs(output_dir)\n",
    "\n",
    "    # Loop through all files in the input directory\n",
    "    for file_name in os.listdir(input_dir):\n",
    "        if file_name.endswith('.tif'):\n",
    "            # Construct full file path\n",
    "            tif_file = os.path.join(input_dir, file_name)\n",
    "            \n",
    "            # Extract the base name of the file (without directory and extension)\n",
    "            base_name = os.path.splitext(file_name)[0]\n",
    "\n",
    "            # Instantiate grid from raster\n",
    "            grid = Grid.from_raster(tif_file)\n",
    "            dem = grid.read_raster(tif_file)\n",
    "\n",
    "            # fill pits in DEM\n",
    "            pit_filled_dem = grid.fill_pits(dem)\n",
    "\n",
    "            # fill depressions in DEM\n",
    "            flooded_dem = grid.fill_depressions(pit_filled_dem)\n",
    "\n",
    "            # resolve flats in DEM\n",
    "            inflated_dem = grid.resolve_flats(flooded_dem)\n",
    "\n",
    "            # specify directional mapping\n",
    "            dirmap = (64, 128, 1, 2, 4, 8, 16, 32)\n",
    "\n",
    "            # compute flow directions\n",
    "            fdir = grid.flowdir(inflated_dem, dirmap=dirmap)\n",
    "\n",
    "            # calculate flow accumulation\n",
    "            acc = grid.accumulation(fdir, dirmap=dirmap)\n",
    "\n",
    "            # compute height above nearest drainage\n",
    "            hand = grid.compute_hand(fdir, dem, acc > 200)\n",
    "\n",
    "            # save HAND raster to new file\n",
    "            output_file = os.path.join(output_dir, f'{base_name}_HAND.tif')\n",
    "            grid.to_raster(hand, output_file)\n",
    "\n",
    "# run the process\n",
    "process_dem_tiles('DEM_Tiles', 'HAND_Tiles')"
   ]
  },
  {
   "cell_type": "code",
   "execution_count": null,
   "id": "c28a9c12",
   "metadata": {},
   "outputs": [
    {
     "name": "stdout",
     "output_type": "stream",
     "text": [
      "The number of mosaiced tiles is: 38\n",
      "You have mosaiced the results.\n"
     ]
    }
   ],
   "source": [
    "# define HAND tiles folder and output TIFF file\n",
    "inputfolder= 'HAND_Tiles'\n",
    "outfile = 'mosaiced_HAND.tif'\n",
    "\n",
    "# initialize list to mosaic the raster tiles\n",
    "tiflist = []\n",
    "\n",
    "for file in os.listdir(inputfolder):    \n",
    "    if file.endswith('.tif'):\n",
    "        tiffile = os.path.join(inputfolder, file)\n",
    "        tiflist.append(tiffile)\n",
    "\n",
    "src_files_to_mosaic = []\n",
    "\n",
    "for fp in tiflist:\n",
    "    try:\n",
    "        tile_src = rio.open(fp)\n",
    "        tile_bounds = tile_src.bounds\n",
    "        \n",
    "        src_files_to_mosaic.append(tile_src)\n",
    "    except:\n",
    "        continue\n",
    "\n",
    "print('The number of mosaiced tiles is:', len(src_files_to_mosaic))\n",
    "\n",
    "# the method can be set as min, max\n",
    "mosaic, out_trans = merge(src_files_to_mosaic) #, method='max'\n",
    "print('You have mosaiced the results.')\n",
    "\n",
    "# prepare the schema of the output mosaicied image\n",
    "out_meta = tile_src.meta.copy()\n",
    "out_meta.update({\"driver\": \"GTiff\",\n",
    "                  \"height\": mosaic.shape[1],\n",
    "                  \"width\": mosaic.shape[2],\n",
    "                  \"transform\": out_trans, \n",
    "                  \"compress\": 'lzw',\n",
    "                  'BIGTIFF': 'YES'\n",
    "                  }\n",
    "               )\n",
    "\n",
    "# write the mosaicied result to the output file\n",
    "with rio.open(outfile, \"w\", **out_meta) as dest:\n",
    "     dest.write(mosaic)\n"
   ]
  },
  {
   "cell_type": "markdown",
   "id": "8e2dbc7a",
   "metadata": {},
   "source": [
    "## Mask to PA state boundary"
   ]
  },
  {
   "cell_type": "markdown",
   "id": "c840b74d",
   "metadata": {},
   "source": [
    "Here, we manually download the PA state boundary from the [PennDOT Open Data site](https://data-pennshare.opendata.arcgis.com/maps/28547b42b7c640ef83c9e515c7c1a6a7) and load it into our project. We will also check its CRS after retrieving it."
   ]
  },
  {
   "cell_type": "code",
   "execution_count": 97,
   "id": "01079174",
   "metadata": {},
   "outputs": [
    {
     "name": "stdout",
     "output_type": "stream",
     "text": [
      "EPSG:3857\n"
     ]
    }
   ],
   "source": [
    "import geopandas as gpd\n",
    "PA_boundary = 'Pennsylvania_State_Boundary/Pennsylvania_State_Boundary.shp'\n",
    "gdf = gpd.read_file(PA_boundary)\n",
    "print(gdf.crs)"
   ]
  },
  {
   "cell_type": "markdown",
   "id": "72a7716a",
   "metadata": {},
   "source": [
    "Now, we can proceed to mask the raster using the boundary we loaded."
   ]
  },
  {
   "cell_type": "code",
   "execution_count": null,
   "id": "f0aa633d",
   "metadata": {},
   "outputs": [],
   "source": [
    "input_value_raster = 'mosaiced_HAND.tif'\n",
    "#PA_boundary = 'Pennsylvania_State_Boundary/Pennsylvania_State_Boundary.shp'\n",
    "out_raster = 'maskedPA_HAND.tif'\n",
    "\n",
    "# define the source and target CRS\n",
    "source_crs = 'EPSG:3857'\n",
    "target_crs = 'EPSG:4269'\n",
    "\n",
    "# use fiona to open the PA boundary \n",
    "with fiona.open(PA_boundary, \"r\") as shp:\n",
    "    shapes = transform_geom(source_crs, target_crs, [feature[\"geometry\"] for feature in shp])\n",
    "\n",
    "# use rasterio to mask the raster\n",
    "with rio.open(input_value_raster) as src:\n",
    "    out_image, out_transform = mask(src, shapes, crop=True)\n",
    "    out_meta = src.meta\n",
    "\n",
    "# configure and write output\n",
    "out_meta.update({\"driver\": \"GTiff\",\n",
    "                 \"height\": out_image.shape[1],\n",
    "                 \"width\": out_image.shape[2],\n",
    "                 \"compress\": 'lzw',\n",
    "                 \"transform\": out_transform})\n",
    "\n",
    "with rio.open(out_raster, \"w\", **out_meta) as dest:\n",
    "    dest.write(out_image)    "
   ]
  },
  {
   "cell_type": "markdown",
   "id": "6552061d-d7d7-44a2-afd6-0fad350b552e",
   "metadata": {},
   "source": [
    "Please proceed to view the PDF of the report detailing the proceeding steps after the output file is generated."
   ]
  }
 ],
 "metadata": {
  "kernelspec": {
   "display_name": "base",
   "language": "python",
   "name": "python3"
  },
  "language_info": {
   "codemirror_mode": {
    "name": "ipython",
    "version": 3
   },
   "file_extension": ".py",
   "mimetype": "text/x-python",
   "name": "python",
   "nbconvert_exporter": "python",
   "pygments_lexer": "ipython3",
   "version": "3.10.14"
  }
 },
 "nbformat": 4,
 "nbformat_minor": 5
}
